{
 "cells": [
  {
   "cell_type": "markdown",
   "id": "9dd0273f",
   "metadata": {
    "papermill": {
     "duration": 0.006957,
     "end_time": "2022-05-15T05:27:13.851549",
     "exception": false,
     "start_time": "2022-05-15T05:27:13.844592",
     "status": "completed"
    },
    "tags": []
   },
   "source": [
    "#**introduction**\n",
    "\n",
    "This notebook contains the first case study of Google's Data Analytics Professional Certificate. The case study requires the analyst to follow to the steps of the data analysis process (ask, prepare, process, analyze, share,and act) for a dataset that represents a fictional company (Cyclistic Bike-Share).\n",
    "\n",
    "Until date, Cyclistic’s marketing strategy has focused on building general awareness and appealing to a wide range of consumers. “Casual” riders are customers who purchase single-ride or full-day passes. Cyclistic “members” are customers who purchase annual memberships.\n",
    "\n",
    "Annual members are substantially more profitable than casual riders, according to Cyclistic’s financial analysts. The company’s future prosperity, according to the director of marketing, hinges on increasing the number of yearly subscribers. The full document to the case study can be found in the [Google Data Analytics Capstone: A Complete Case Study](https://www.coursera.org/learn/google-data-analytics-capstone)\n",
    "\n",
    "#**Phase 1: Ask**\n",
    "\n",
    "**Defining a Problem**\n",
    "\n",
    "As Cyclistic realized that having more annual customers than casual riders will improve their earnings. They want to reach out to their “casual” riders, to convince them to switch to an annual subscription. In order to do so, they must first determine how the “casual” and “annual” customers differ in order to create a targeted and effective marketing message for the “casual” customers.\n",
    "\n",
    "**business Task**\n",
    "\n",
    "The business task is to identify the differences between casual and annual riders in order to come up with a proper message to campaign to the casual users convincing them to switch to annual subscription. \n",
    "\n",
    "\n",
    "#**Phase 2: Prepare**\n",
    "\n",
    "**Data Preparation**\n",
    "\n",
    "**Source of Data**\n",
    "-Data was collected from [Motivate International Inc](https://divvy-tripdata.s3.amazonaws.com/index.html) under this [license](https://ride.divvybikes.com/data-license-agreement). Hence, it is public data.\n",
    "-Since Cyclistic is a fictional company, the datasets have different names.\n",
    "\n",
    "**Data Oraganization**\n",
    "\n",
    "-12 CSV.files\n",
    "\n",
    "-13 Variables\n",
    "\n",
    "####Data credibility\n",
    "-The data appears to be in good condition, and it is first-hand information, with a large number of entries and a lot of important information.\n",
    "\n",
    "The datasets contain data of rides from May,2021 to April, 2022. Each rides contains basic information such as the start date and time, end date and time, and whether the customer was a casual user or a member.\n",
    "\n",
    "**install the required packages**"
   ]
  },
  {
   "cell_type": "code",
   "execution_count": 1,
   "id": "6ef73d37",
   "metadata": {
    "_kg_hide-output": true,
    "execution": {
     "iopub.execute_input": "2022-05-15T05:27:13.867951Z",
     "iopub.status.busy": "2022-05-15T05:27:13.865360Z",
     "iopub.status.idle": "2022-05-15T05:27:15.344824Z",
     "shell.execute_reply": "2022-05-15T05:27:15.342804Z"
    },
    "papermill": {
     "duration": 1.490864,
     "end_time": "2022-05-15T05:27:15.348034",
     "exception": false,
     "start_time": "2022-05-15T05:27:13.857170",
     "status": "completed"
    },
    "tags": []
   },
   "outputs": [
    {
     "name": "stderr",
     "output_type": "stream",
     "text": [
      "── \u001b[1mAttaching packages\u001b[22m ─────────────────────────────────────── tidyverse 1.3.1 ──\n",
      "\n",
      "\u001b[32m✔\u001b[39m \u001b[34mggplot2\u001b[39m 3.3.5     \u001b[32m✔\u001b[39m \u001b[34mpurrr  \u001b[39m 0.3.4\n",
      "\u001b[32m✔\u001b[39m \u001b[34mtibble \u001b[39m 3.1.6     \u001b[32m✔\u001b[39m \u001b[34mdplyr  \u001b[39m 1.0.8\n",
      "\u001b[32m✔\u001b[39m \u001b[34mtidyr  \u001b[39m 1.2.0     \u001b[32m✔\u001b[39m \u001b[34mstringr\u001b[39m 1.4.0\n",
      "\u001b[32m✔\u001b[39m \u001b[34mreadr  \u001b[39m 2.1.2     \u001b[32m✔\u001b[39m \u001b[34mforcats\u001b[39m 0.5.1\n",
      "\n",
      "── \u001b[1mConflicts\u001b[22m ────────────────────────────────────────── tidyverse_conflicts() ──\n",
      "\u001b[31m✖\u001b[39m \u001b[34mdplyr\u001b[39m::\u001b[32mfilter()\u001b[39m masks \u001b[34mstats\u001b[39m::filter()\n",
      "\u001b[31m✖\u001b[39m \u001b[34mdplyr\u001b[39m::\u001b[32mlag()\u001b[39m    masks \u001b[34mstats\u001b[39m::lag()\n",
      "\n",
      "\n",
      "Attaching package: ‘lubridate’\n",
      "\n",
      "\n",
      "The following objects are masked from ‘package:base’:\n",
      "\n",
      "    date, intersect, setdiff, union\n",
      "\n",
      "\n"
     ]
    }
   ],
   "source": [
    "library(tidyverse)\n",
    "library(ggplot2)\n",
    "library(lubridate)\n",
    "library(readr)"
   ]
  },
  {
   "cell_type": "markdown",
   "id": "2604dba2",
   "metadata": {
    "_kg_hide-output": true,
    "papermill": {
     "duration": 0.005917,
     "end_time": "2022-05-15T05:27:15.360506",
     "exception": false,
     "start_time": "2022-05-15T05:27:15.354589",
     "status": "completed"
    },
    "tags": []
   },
   "source": [
    "**Import Dataset**"
   ]
  },
  {
   "cell_type": "code",
   "execution_count": 2,
   "id": "5c6db395",
   "metadata": {
    "_kg_hide-output": true,
    "execution": {
     "iopub.execute_input": "2022-05-15T05:27:15.408050Z",
     "iopub.status.busy": "2022-05-15T05:27:15.374651Z",
     "iopub.status.idle": "2022-05-15T05:27:45.286433Z",
     "shell.execute_reply": "2022-05-15T05:27:45.284275Z"
    },
    "papermill": {
     "duration": 29.923118,
     "end_time": "2022-05-15T05:27:45.289775",
     "exception": false,
     "start_time": "2022-05-15T05:27:15.366657",
     "status": "completed"
    },
    "tags": []
   },
   "outputs": [
    {
     "name": "stderr",
     "output_type": "stream",
     "text": [
      "\u001b[1mRows: \u001b[22m\u001b[34m371249\u001b[39m \u001b[1mColumns: \u001b[22m\u001b[34m13\u001b[39m\n",
      "\u001b[36m──\u001b[39m \u001b[1mColumn specification\u001b[22m \u001b[36m────────────────────────────────────────────────────────\u001b[39m\n",
      "\u001b[1mDelimiter:\u001b[22m \",\"\n",
      "\u001b[31mchr\u001b[39m  (7): ride_id, rideable_type, start_station_name, start_station_id, end_...\n",
      "\u001b[32mdbl\u001b[39m  (4): start_lat, start_lng, end_lat, end_lng\n",
      "\u001b[34mdttm\u001b[39m (2): started_at, ended_at\n",
      "\n",
      "\u001b[36mℹ\u001b[39m Use `spec()` to retrieve the full column specification for this data.\n",
      "\u001b[36mℹ\u001b[39m Specify the column types or set `show_col_types = FALSE` to quiet this message.\n",
      "\u001b[1mRows: \u001b[22m\u001b[34m284042\u001b[39m \u001b[1mColumns: \u001b[22m\u001b[34m13\u001b[39m\n",
      "\u001b[36m──\u001b[39m \u001b[1mColumn specification\u001b[22m \u001b[36m────────────────────────────────────────────────────────\u001b[39m\n",
      "\u001b[1mDelimiter:\u001b[22m \",\"\n",
      "\u001b[31mchr\u001b[39m  (7): ride_id, rideable_type, start_station_name, start_station_id, end_...\n",
      "\u001b[32mdbl\u001b[39m  (4): start_lat, start_lng, end_lat, end_lng\n",
      "\u001b[34mdttm\u001b[39m (2): started_at, ended_at\n",
      "\n",
      "\u001b[36mℹ\u001b[39m Use `spec()` to retrieve the full column specification for this data.\n",
      "\u001b[36mℹ\u001b[39m Specify the column types or set `show_col_types = FALSE` to quiet this message.\n",
      "\u001b[1mRows: \u001b[22m\u001b[34m115609\u001b[39m \u001b[1mColumns: \u001b[22m\u001b[34m13\u001b[39m\n",
      "\u001b[36m──\u001b[39m \u001b[1mColumn specification\u001b[22m \u001b[36m────────────────────────────────────────────────────────\u001b[39m\n",
      "\u001b[1mDelimiter:\u001b[22m \",\"\n",
      "\u001b[31mchr\u001b[39m  (7): ride_id, rideable_type, start_station_name, start_station_id, end_...\n",
      "\u001b[32mdbl\u001b[39m  (4): start_lat, start_lng, end_lat, end_lng\n",
      "\u001b[34mdttm\u001b[39m (2): started_at, ended_at\n",
      "\n",
      "\u001b[36mℹ\u001b[39m Use `spec()` to retrieve the full column specification for this data.\n",
      "\u001b[36mℹ\u001b[39m Specify the column types or set `show_col_types = FALSE` to quiet this message.\n",
      "\u001b[1mRows: \u001b[22m\u001b[34m103770\u001b[39m \u001b[1mColumns: \u001b[22m\u001b[34m13\u001b[39m\n",
      "\u001b[36m──\u001b[39m \u001b[1mColumn specification\u001b[22m \u001b[36m────────────────────────────────────────────────────────\u001b[39m\n",
      "\u001b[1mDelimiter:\u001b[22m \",\"\n",
      "\u001b[31mchr\u001b[39m  (7): ride_id, rideable_type, start_station_name, start_station_id, end_...\n",
      "\u001b[32mdbl\u001b[39m  (4): start_lat, start_lng, end_lat, end_lng\n",
      "\u001b[34mdttm\u001b[39m (2): started_at, ended_at\n",
      "\n",
      "\u001b[36mℹ\u001b[39m Use `spec()` to retrieve the full column specification for this data.\n",
      "\u001b[36mℹ\u001b[39m Specify the column types or set `show_col_types = FALSE` to quiet this message.\n",
      "\u001b[1mRows: \u001b[22m\u001b[34m247540\u001b[39m \u001b[1mColumns: \u001b[22m\u001b[34m13\u001b[39m\n",
      "\u001b[36m──\u001b[39m \u001b[1mColumn specification\u001b[22m \u001b[36m────────────────────────────────────────────────────────\u001b[39m\n",
      "\u001b[1mDelimiter:\u001b[22m \",\"\n",
      "\u001b[31mchr\u001b[39m  (7): ride_id, rideable_type, start_station_name, start_station_id, end_...\n",
      "\u001b[32mdbl\u001b[39m  (4): start_lat, start_lng, end_lat, end_lng\n",
      "\u001b[34mdttm\u001b[39m (2): started_at, ended_at\n",
      "\n",
      "\u001b[36mℹ\u001b[39m Use `spec()` to retrieve the full column specification for this data.\n",
      "\u001b[36mℹ\u001b[39m Specify the column types or set `show_col_types = FALSE` to quiet this message.\n",
      "\u001b[1mRows: \u001b[22m\u001b[34m631226\u001b[39m \u001b[1mColumns: \u001b[22m\u001b[34m13\u001b[39m\n",
      "\u001b[36m──\u001b[39m \u001b[1mColumn specification\u001b[22m \u001b[36m────────────────────────────────────────────────────────\u001b[39m\n",
      "\u001b[1mDelimiter:\u001b[22m \",\"\n",
      "\u001b[31mchr\u001b[39m  (7): ride_id, rideable_type, start_station_name, start_station_id, end_...\n",
      "\u001b[32mdbl\u001b[39m  (4): start_lat, start_lng, end_lat, end_lng\n",
      "\u001b[34mdttm\u001b[39m (2): started_at, ended_at\n",
      "\n",
      "\u001b[36mℹ\u001b[39m Use `spec()` to retrieve the full column specification for this data.\n",
      "\u001b[36mℹ\u001b[39m Specify the column types or set `show_col_types = FALSE` to quiet this message.\n",
      "\u001b[1mRows: \u001b[22m\u001b[34m359978\u001b[39m \u001b[1mColumns: \u001b[22m\u001b[34m13\u001b[39m\n",
      "\u001b[36m──\u001b[39m \u001b[1mColumn specification\u001b[22m \u001b[36m────────────────────────────────────────────────────────\u001b[39m\n",
      "\u001b[1mDelimiter:\u001b[22m \",\"\n",
      "\u001b[31mchr\u001b[39m  (7): ride_id, rideable_type, start_station_name, start_station_id, end_...\n",
      "\u001b[32mdbl\u001b[39m  (4): start_lat, start_lng, end_lat, end_lng\n",
      "\u001b[34mdttm\u001b[39m (2): started_at, ended_at\n",
      "\n",
      "\u001b[36mℹ\u001b[39m Use `spec()` to retrieve the full column specification for this data.\n",
      "\u001b[36mℹ\u001b[39m Specify the column types or set `show_col_types = FALSE` to quiet this message.\n",
      "\u001b[1mRows: \u001b[22m\u001b[34m756147\u001b[39m \u001b[1mColumns: \u001b[22m\u001b[34m13\u001b[39m\n",
      "\u001b[36m──\u001b[39m \u001b[1mColumn specification\u001b[22m \u001b[36m────────────────────────────────────────────────────────\u001b[39m\n",
      "\u001b[1mDelimiter:\u001b[22m \",\"\n",
      "\u001b[31mchr\u001b[39m  (7): ride_id, rideable_type, start_station_name, start_station_id, end_...\n",
      "\u001b[32mdbl\u001b[39m  (4): start_lat, start_lng, end_lat, end_lng\n",
      "\u001b[34mdttm\u001b[39m (2): started_at, ended_at\n",
      "\n",
      "\u001b[36mℹ\u001b[39m Use `spec()` to retrieve the full column specification for this data.\n",
      "\u001b[36mℹ\u001b[39m Specify the column types or set `show_col_types = FALSE` to quiet this message.\n",
      "\u001b[1mRows: \u001b[22m\u001b[34m804352\u001b[39m \u001b[1mColumns: \u001b[22m\u001b[34m13\u001b[39m\n",
      "\u001b[36m──\u001b[39m \u001b[1mColumn specification\u001b[22m \u001b[36m────────────────────────────────────────────────────────\u001b[39m\n",
      "\u001b[1mDelimiter:\u001b[22m \",\"\n",
      "\u001b[31mchr\u001b[39m  (7): ride_id, rideable_type, start_station_name, start_station_id, end_...\n",
      "\u001b[32mdbl\u001b[39m  (4): start_lat, start_lng, end_lat, end_lng\n",
      "\u001b[34mdttm\u001b[39m (2): started_at, ended_at\n",
      "\n",
      "\u001b[36mℹ\u001b[39m Use `spec()` to retrieve the full column specification for this data.\n",
      "\u001b[36mℹ\u001b[39m Specify the column types or set `show_col_types = FALSE` to quiet this message.\n",
      "\u001b[1mRows: \u001b[22m\u001b[34m822410\u001b[39m \u001b[1mColumns: \u001b[22m\u001b[34m13\u001b[39m\n",
      "\u001b[36m──\u001b[39m \u001b[1mColumn specification\u001b[22m \u001b[36m────────────────────────────────────────────────────────\u001b[39m\n",
      "\u001b[1mDelimiter:\u001b[22m \",\"\n",
      "\u001b[31mchr\u001b[39m  (7): ride_id, rideable_type, start_station_name, start_station_id, end_...\n",
      "\u001b[32mdbl\u001b[39m  (4): start_lat, start_lng, end_lat, end_lng\n",
      "\u001b[34mdttm\u001b[39m (2): started_at, ended_at\n",
      "\n",
      "\u001b[36mℹ\u001b[39m Use `spec()` to retrieve the full column specification for this data.\n",
      "\u001b[36mℹ\u001b[39m Specify the column types or set `show_col_types = FALSE` to quiet this message.\n",
      "\u001b[1mRows: \u001b[22m\u001b[34m729595\u001b[39m \u001b[1mColumns: \u001b[22m\u001b[34m13\u001b[39m\n",
      "\u001b[36m──\u001b[39m \u001b[1mColumn specification\u001b[22m \u001b[36m────────────────────────────────────────────────────────\u001b[39m\n",
      "\u001b[1mDelimiter:\u001b[22m \",\"\n",
      "\u001b[31mchr\u001b[39m  (7): ride_id, rideable_type, start_station_name, start_station_id, end_...\n",
      "\u001b[32mdbl\u001b[39m  (4): start_lat, start_lng, end_lat, end_lng\n",
      "\u001b[34mdttm\u001b[39m (2): started_at, ended_at\n",
      "\n",
      "\u001b[36mℹ\u001b[39m Use `spec()` to retrieve the full column specification for this data.\n",
      "\u001b[36mℹ\u001b[39m Specify the column types or set `show_col_types = FALSE` to quiet this message.\n",
      "\u001b[1mRows: \u001b[22m\u001b[34m531633\u001b[39m \u001b[1mColumns: \u001b[22m\u001b[34m13\u001b[39m\n",
      "\u001b[36m──\u001b[39m \u001b[1mColumn specification\u001b[22m \u001b[36m────────────────────────────────────────────────────────\u001b[39m\n",
      "\u001b[1mDelimiter:\u001b[22m \",\"\n",
      "\u001b[31mchr\u001b[39m  (7): ride_id, rideable_type, start_station_name, start_station_id, end_...\n",
      "\u001b[32mdbl\u001b[39m  (4): start_lat, start_lng, end_lat, end_lng\n",
      "\u001b[34mdttm\u001b[39m (2): started_at, ended_at\n",
      "\n",
      "\u001b[36mℹ\u001b[39m Use `spec()` to retrieve the full column specification for this data.\n",
      "\u001b[36mℹ\u001b[39m Specify the column types or set `show_col_types = FALSE` to quiet this message.\n"
     ]
    }
   ],
   "source": [
    "X202204_divvy_tripdata <- read_csv(\"../input/cyclistic/202204-divvy-tripdata.csv\")\n",
    "X202203_divvy_tripdata <- read_csv(\"../input/cyclistic/202203-divvy-tripdata.csv\")\n",
    "X202202_divvy_tripdata <- read_csv(\"../input/cyclistic/202202-divvy-tripdata.csv\")\n",
    "X202201_divvy_tripdata <- read_csv(\"../input/cyclistic/202201-divvy-tripdata.csv\")\n",
    "X202112_divvy_tripdata <- read_csv(\"../input/cyclistic/202112-divvy-tripdata.csv\")\n",
    "X202110_divvy_tripdata <- read_csv(\"../input/cyclistic/202110-divvy-tripdata.csv\")\n",
    "X202111_divvy_tripdata <- read_csv(\"../input/cyclistic/202111-divvy-tripdata.csv\")\n",
    "X202109_divvy_tripdata <- read_csv(\"../input/cyclistic/202109-divvy-tripdata.csv\")\n",
    "X202108_divvy_tripdata <- read_csv(\"../input/cyclistic/202108-divvy-tripdata.csv\")\n",
    "X202107_divvy_tripdata <- read_csv(\"../input/cyclistic/202107-divvy-tripdata.csv\")\n",
    "X202106_divvy_tripdata <- read_csv(\"../input/cyclistic/202106-divvy-tripdata.csv\")\n",
    "X202105_divvy_tripdata <- read_csv(\"../input/cyclistic/202105-divvy-tripdata.csv\")"
   ]
  },
  {
   "cell_type": "markdown",
   "id": "522eafb8",
   "metadata": {
    "papermill": {
     "duration": 0.009973,
     "end_time": "2022-05-15T05:27:45.309070",
     "exception": false,
     "start_time": "2022-05-15T05:27:45.299097",
     "status": "completed"
    },
    "tags": []
   },
   "source": [
    "**Combining all dataset into one dataset called tripdata**"
   ]
  },
  {
   "cell_type": "code",
   "execution_count": 3,
   "id": "790f50bb",
   "metadata": {
    "_kg_hide-output": true,
    "execution": {
     "iopub.execute_input": "2022-05-15T05:27:45.330104Z",
     "iopub.status.busy": "2022-05-15T05:27:45.327995Z",
     "iopub.status.idle": "2022-05-15T05:28:03.237104Z",
     "shell.execute_reply": "2022-05-15T05:28:03.235217Z"
    },
    "papermill": {
     "duration": 17.922246,
     "end_time": "2022-05-15T05:28:03.239941",
     "exception": false,
     "start_time": "2022-05-15T05:27:45.317695",
     "status": "completed"
    },
    "tags": []
   },
   "outputs": [],
   "source": [
    "tripdata <- rbind(X202105_divvy_tripdata,X202106_divvy_tripdata,X202107_divvy_tripdata,X202108_divvy_tripdata,X202109_divvy_tripdata,X202110_divvy_tripdata,X202111_divvy_tripdata,X202112_divvy_tripdata,X202201_divvy_tripdata,X202202_divvy_tripdata,X202203_divvy_tripdata,X202204_divvy_tripdata)"
   ]
  },
  {
   "cell_type": "markdown",
   "id": "56701c06",
   "metadata": {
    "papermill": {
     "duration": 0.008789,
     "end_time": "2022-05-15T05:28:03.257384",
     "exception": false,
     "start_time": "2022-05-15T05:28:03.248595",
     "status": "completed"
    },
    "tags": []
   },
   "source": [
    "\n",
    "#**Phase 3: Process**\n",
    "\n",
    "**First, let's see how data looks.**"
   ]
  },
  {
   "cell_type": "code",
   "execution_count": 4,
   "id": "226cca3e",
   "metadata": {
    "_kg_hide-output": true,
    "execution": {
     "iopub.execute_input": "2022-05-15T05:28:03.278098Z",
     "iopub.status.busy": "2022-05-15T05:28:03.276409Z",
     "iopub.status.idle": "2022-05-15T05:28:06.397772Z",
     "shell.execute_reply": "2022-05-15T05:28:06.395943Z"
    },
    "papermill": {
     "duration": 3.134376,
     "end_time": "2022-05-15T05:28:06.400232",
     "exception": false,
     "start_time": "2022-05-15T05:28:03.265856",
     "status": "completed"
    },
    "tags": []
   },
   "outputs": [
    {
     "data": {
      "text/plain": [
       "   ride_id          rideable_type        started_at                 \n",
       " Length:5757551     Length:5757551     Min.   :2021-05-01 00:00:11  \n",
       " Class :character   Class :character   1st Qu.:2021-07-07 14:52:45  \n",
       " Mode  :character   Mode  :character   Median :2021-08-31 17:17:20  \n",
       "                                       Mean   :2021-09-18 18:21:45  \n",
       "                                       3rd Qu.:2021-11-03 20:25:37  \n",
       "                                       Max.   :2022-04-30 23:59:54  \n",
       "                                                                    \n",
       "    ended_at                   start_station_name start_station_id  \n",
       " Min.   :2021-05-01 00:03:26   Length:5757551     Length:5757551    \n",
       " 1st Qu.:2021-07-07 15:16:14   Class :character   Class :character  \n",
       " Median :2021-08-31 17:34:09   Mode  :character   Mode  :character  \n",
       " Mean   :2021-09-18 18:42:54                                        \n",
       " 3rd Qu.:2021-11-03 20:38:44                                        \n",
       " Max.   :2022-05-02 00:35:01                                        \n",
       "                                                                    \n",
       " end_station_name   end_station_id       start_lat       start_lng     \n",
       " Length:5757551     Length:5757551     Min.   :41.64   Min.   :-87.84  \n",
       " Class :character   Class :character   1st Qu.:41.88   1st Qu.:-87.66  \n",
       " Mode  :character   Mode  :character   Median :41.90   Median :-87.64  \n",
       "                                       Mean   :41.90   Mean   :-87.65  \n",
       "                                       3rd Qu.:41.93   3rd Qu.:-87.63  \n",
       "                                       Max.   :45.64   Max.   :-73.80  \n",
       "                                                                       \n",
       "    end_lat         end_lng       member_casual     \n",
       " Min.   :41.39   Min.   :-88.97   Length:5757551    \n",
       " 1st Qu.:41.88   1st Qu.:-87.66   Class :character  \n",
       " Median :41.90   Median :-87.64   Mode  :character  \n",
       " Mean   :41.90   Mean   :-87.65                     \n",
       " 3rd Qu.:41.93   3rd Qu.:-87.63                     \n",
       " Max.   :42.17   Max.   :-87.49                     \n",
       " NA's   :4766    NA's   :4766                       "
      ]
     },
     "metadata": {},
     "output_type": "display_data"
    }
   ],
   "source": [
    "summary(tripdata)"
   ]
  },
  {
   "cell_type": "markdown",
   "id": "dd77fcff",
   "metadata": {
    "papermill": {
     "duration": 0.00924,
     "end_time": "2022-05-15T05:28:06.418536",
     "exception": false,
     "start_time": "2022-05-15T05:28:06.409296",
     "status": "completed"
    },
    "tags": []
   },
   "source": [
    "**Adding new date variables(Data Acquisition)**\n",
    "\n",
    "Next, we will add columns that list the date, month, day of week, and year of each ride. This will allow us to aggregate ride data for each month, day, or year."
   ]
  },
  {
   "cell_type": "code",
   "execution_count": 5,
   "id": "ccd6a832",
   "metadata": {
    "_kg_hide-output": true,
    "execution": {
     "iopub.execute_input": "2022-05-15T05:28:06.441023Z",
     "iopub.status.busy": "2022-05-15T05:28:06.439312Z",
     "iopub.status.idle": "2022-05-15T05:28:16.526347Z",
     "shell.execute_reply": "2022-05-15T05:28:16.524461Z"
    },
    "papermill": {
     "duration": 10.101126,
     "end_time": "2022-05-15T05:28:16.529380",
     "exception": false,
     "start_time": "2022-05-15T05:28:06.428254",
     "status": "completed"
    },
    "tags": []
   },
   "outputs": [],
   "source": [
    "tripdata$date <- as.Date(tripdata$started_at)\n",
    "\n",
    "tripdata$month <- format(as.Date(tripdata$date), \"%m\")\n",
    "tripdata$day <- format(as.Date(tripdata$date), \"%d\")\n",
    "tripdata$year <- format(as.Date(tripdata$date), \"%y\")\n",
    "tripdata$day_of_week <- format(as.Date(tripdata$date), \"%a\")"
   ]
  },
  {
   "cell_type": "markdown",
   "id": "c3c107bb",
   "metadata": {
    "papermill": {
     "duration": 0.008931,
     "end_time": "2022-05-15T05:28:16.547112",
     "exception": false,
     "start_time": "2022-05-15T05:28:16.538181",
     "status": "completed"
    },
    "tags": []
   },
   "source": [
    "Now, we will add a column for the ride length for each ride by finding the time difference between the ride's start time and end time."
   ]
  },
  {
   "cell_type": "code",
   "execution_count": 6,
   "id": "55a7d57b",
   "metadata": {
    "_kg_hide-output": true,
    "execution": {
     "iopub.execute_input": "2022-05-15T05:28:16.568926Z",
     "iopub.status.busy": "2022-05-15T05:28:16.567281Z",
     "iopub.status.idle": "2022-05-15T05:28:17.175902Z",
     "shell.execute_reply": "2022-05-15T05:28:17.174048Z"
    },
    "papermill": {
     "duration": 0.62195,
     "end_time": "2022-05-15T05:28:17.178273",
     "exception": false,
     "start_time": "2022-05-15T05:28:16.556323",
     "status": "completed"
    },
    "tags": []
   },
   "outputs": [],
   "source": [
    "tripdata$ride_length <- difftime(tripdata$ended_at,tripdata$started_at, units = \"mins\")"
   ]
  },
  {
   "cell_type": "markdown",
   "id": "e7b6e059",
   "metadata": {
    "papermill": {
     "duration": 0.009916,
     "end_time": "2022-05-15T05:28:17.201032",
     "exception": false,
     "start_time": "2022-05-15T05:28:17.191116",
     "status": "completed"
    },
    "tags": []
   },
   "source": [
    "**Data cleaning**\n",
    "\n",
    "There is some \"bad\" data to remove where the ride_length is negative due to maintence removing bikes for quality checks. We will create a new data frame without these rides that have negative ride lengths.Also remove some geological detail columns which is not in our analysis and save it in new dataframe so our original file remain unchanged for future use."
   ]
  },
  {
   "cell_type": "code",
   "execution_count": 7,
   "id": "413db456",
   "metadata": {
    "_kg_hide-output": true,
    "execution": {
     "iopub.execute_input": "2022-05-15T05:28:17.227172Z",
     "iopub.status.busy": "2022-05-15T05:28:17.224681Z",
     "iopub.status.idle": "2022-05-15T05:28:18.548498Z",
     "shell.execute_reply": "2022-05-15T05:28:18.546448Z"
    },
    "papermill": {
     "duration": 1.339035,
     "end_time": "2022-05-15T05:28:18.550966",
     "exception": false,
     "start_time": "2022-05-15T05:28:17.211931",
     "status": "completed"
    },
    "tags": []
   },
   "outputs": [],
   "source": [
    "tripdata <- tripdata %>%\n",
    "  select(-c(start_lat,start_lng,end_lat,end_lng))\n",
    "tripdata2 <- tripdata[!(tripdata$ride_length<0),]"
   ]
  },
  {
   "cell_type": "markdown",
   "id": "25446a2f",
   "metadata": {
    "papermill": {
     "duration": 0.008889,
     "end_time": "2022-05-15T05:28:18.568651",
     "exception": false,
     "start_time": "2022-05-15T05:28:18.559762",
     "status": "completed"
    },
    "tags": []
   },
   "source": [
    "**Let's how our datafram finally looks.**"
   ]
  },
  {
   "cell_type": "code",
   "execution_count": 8,
   "id": "d4e044ad",
   "metadata": {
    "_kg_hide-output": true,
    "execution": {
     "iopub.execute_input": "2022-05-15T05:28:18.590039Z",
     "iopub.status.busy": "2022-05-15T05:28:18.588272Z",
     "iopub.status.idle": "2022-05-15T05:28:18.622661Z",
     "shell.execute_reply": "2022-05-15T05:28:18.619928Z"
    },
    "papermill": {
     "duration": 0.047324,
     "end_time": "2022-05-15T05:28:18.625131",
     "exception": false,
     "start_time": "2022-05-15T05:28:18.577807",
     "status": "completed"
    },
    "tags": []
   },
   "outputs": [
    {
     "name": "stdout",
     "output_type": "stream",
     "text": [
      "Rows: 5,757,411\n",
      "Columns: 15\n",
      "$ ride_id            \u001b[3m\u001b[90m<chr>\u001b[39m\u001b[23m \"C809ED75D6160B2A\", \"DD59FDCE0ACACAF3\", \"0AB83CB88C…\n",
      "$ rideable_type      \u001b[3m\u001b[90m<chr>\u001b[39m\u001b[23m \"electric_bike\", \"electric_bike\", \"electric_bike\", …\n",
      "$ started_at         \u001b[3m\u001b[90m<dttm>\u001b[39m\u001b[23m 2021-05-30 11:58:15, 2021-05-30 11:29:14, 2021-05-…\n",
      "$ ended_at           \u001b[3m\u001b[90m<dttm>\u001b[39m\u001b[23m 2021-05-30 12:10:39, 2021-05-30 12:14:09, 2021-05-…\n",
      "$ start_station_name \u001b[3m\u001b[90m<chr>\u001b[39m\u001b[23m NA, NA, NA, NA, NA, NA, NA, NA, NA, NA, NA, NA, NA,…\n",
      "$ start_station_id   \u001b[3m\u001b[90m<chr>\u001b[39m\u001b[23m NA, NA, NA, NA, NA, NA, NA, NA, NA, NA, NA, NA, NA,…\n",
      "$ end_station_name   \u001b[3m\u001b[90m<chr>\u001b[39m\u001b[23m NA, NA, NA, NA, NA, NA, NA, NA, NA, NA, NA, NA, NA,…\n",
      "$ end_station_id     \u001b[3m\u001b[90m<chr>\u001b[39m\u001b[23m NA, NA, NA, NA, NA, NA, NA, NA, NA, NA, NA, NA, NA,…\n",
      "$ member_casual      \u001b[3m\u001b[90m<chr>\u001b[39m\u001b[23m \"casual\", \"casual\", \"casual\", \"casual\", \"casual\", \"…\n",
      "$ date               \u001b[3m\u001b[90m<date>\u001b[39m\u001b[23m 2021-05-30, 2021-05-30, 2021-05-30, 2021-05-30, 20…\n",
      "$ month              \u001b[3m\u001b[90m<chr>\u001b[39m\u001b[23m \"05\", \"05\", \"05\", \"05\", \"05\", \"05\", \"05\", \"05\", \"05…\n",
      "$ day                \u001b[3m\u001b[90m<chr>\u001b[39m\u001b[23m \"30\", \"30\", \"30\", \"30\", \"30\", \"30\", \"30\", \"05\", \"05…\n",
      "$ year               \u001b[3m\u001b[90m<chr>\u001b[39m\u001b[23m \"21\", \"21\", \"21\", \"21\", \"21\", \"21\", \"21\", \"21\", \"21…\n",
      "$ day_of_week        \u001b[3m\u001b[90m<chr>\u001b[39m\u001b[23m \"Sun\", \"Sun\", \"Sun\", \"Sun\", \"Sun\", \"Sun\", \"Sun\", \"W…\n",
      "$ ride_length        \u001b[3m\u001b[90m<drtn>\u001b[39m\u001b[23m 12.400000 mins, 44.916667 mins, 1.200000 mins, 15.…\n"
     ]
    }
   ],
   "source": [
    "glimpse(tripdata2)"
   ]
  },
  {
   "cell_type": "markdown",
   "id": "82080501",
   "metadata": {
    "papermill": {
     "duration": 0.008922,
     "end_time": "2022-05-15T05:28:18.643404",
     "exception": false,
     "start_time": "2022-05-15T05:28:18.634482",
     "status": "completed"
    },
    "tags": []
   },
   "source": [
    "#**Phase 4: Analyze**\n",
    "\n",
    "**Identifying Trends and Relationships**\n",
    "\n",
    "**Descriptive Statistics**-> I performed descriptive statistics to identify differences in behavior between casual and member users.\n",
    "calculate the mean, median, max and min values of ride_length for casual and member type users (descriptive statistics)"
   ]
  },
  {
   "cell_type": "code",
   "execution_count": 9,
   "id": "51ff0f3e",
   "metadata": {
    "_kg_hide-output": true,
    "execution": {
     "iopub.execute_input": "2022-05-15T05:28:18.665376Z",
     "iopub.status.busy": "2022-05-15T05:28:18.663778Z",
     "iopub.status.idle": "2022-05-15T05:28:37.138696Z",
     "shell.execute_reply": "2022-05-15T05:28:37.136533Z"
    },
    "papermill": {
     "duration": 18.489656,
     "end_time": "2022-05-15T05:28:37.142585",
     "exception": false,
     "start_time": "2022-05-15T05:28:18.652929",
     "status": "completed"
    },
    "tags": []
   },
   "outputs": [
    {
     "data": {
      "text/html": [
       "<table class=\"dataframe\">\n",
       "<caption>A data.frame: 2 × 2</caption>\n",
       "<thead>\n",
       "\t<tr><th scope=col>tripdata2$member_casual</th><th scope=col>tripdata2$ride_length</th></tr>\n",
       "\t<tr><th scope=col>&lt;chr&gt;</th><th scope=col>&lt;drtn&gt;</th></tr>\n",
       "</thead>\n",
       "<tbody>\n",
       "\t<tr><td>casual</td><td>31.29203 mins</td></tr>\n",
       "\t<tr><td>member</td><td>13.14491 mins</td></tr>\n",
       "</tbody>\n",
       "</table>\n"
      ],
      "text/latex": [
       "A data.frame: 2 × 2\n",
       "\\begin{tabular}{ll}\n",
       " tripdata2\\$member\\_casual & tripdata2\\$ride\\_length\\\\\n",
       " <chr> & <drtn>\\\\\n",
       "\\hline\n",
       "\t casual & 31.29203 mins\\\\\n",
       "\t member & 13.14491 mins\\\\\n",
       "\\end{tabular}\n"
      ],
      "text/markdown": [
       "\n",
       "A data.frame: 2 × 2\n",
       "\n",
       "| tripdata2$member_casual &lt;chr&gt; | tripdata2$ride_length &lt;drtn&gt; |\n",
       "|---|---|\n",
       "| casual | 31.29203 mins |\n",
       "| member | 13.14491 mins |\n",
       "\n"
      ],
      "text/plain": [
       "  tripdata2$member_casual tripdata2$ride_length\n",
       "1 casual                  31.29203 mins        \n",
       "2 member                  13.14491 mins        "
      ]
     },
     "metadata": {},
     "output_type": "display_data"
    },
    {
     "data": {
      "text/html": [
       "<table class=\"dataframe\">\n",
       "<caption>A data.frame: 2 × 2</caption>\n",
       "<thead>\n",
       "\t<tr><th scope=col>tripdata2$member_casual</th><th scope=col>tripdata2$ride_length</th></tr>\n",
       "\t<tr><th scope=col>&lt;chr&gt;</th><th scope=col>&lt;drtn&gt;</th></tr>\n",
       "</thead>\n",
       "<tbody>\n",
       "\t<tr><td>casual</td><td>15.566667 mins</td></tr>\n",
       "\t<tr><td>member</td><td> 9.183333 mins</td></tr>\n",
       "</tbody>\n",
       "</table>\n"
      ],
      "text/latex": [
       "A data.frame: 2 × 2\n",
       "\\begin{tabular}{ll}\n",
       " tripdata2\\$member\\_casual & tripdata2\\$ride\\_length\\\\\n",
       " <chr> & <drtn>\\\\\n",
       "\\hline\n",
       "\t casual & 15.566667 mins\\\\\n",
       "\t member &  9.183333 mins\\\\\n",
       "\\end{tabular}\n"
      ],
      "text/markdown": [
       "\n",
       "A data.frame: 2 × 2\n",
       "\n",
       "| tripdata2$member_casual &lt;chr&gt; | tripdata2$ride_length &lt;drtn&gt; |\n",
       "|---|---|\n",
       "| casual | 15.566667 mins |\n",
       "| member |  9.183333 mins |\n",
       "\n"
      ],
      "text/plain": [
       "  tripdata2$member_casual tripdata2$ride_length\n",
       "1 casual                  15.566667 mins       \n",
       "2 member                   9.183333 mins       "
      ]
     },
     "metadata": {},
     "output_type": "display_data"
    },
    {
     "data": {
      "text/html": [
       "<table class=\"dataframe\">\n",
       "<caption>A data.frame: 2 × 2</caption>\n",
       "<thead>\n",
       "\t<tr><th scope=col>tripdata2$member_casual</th><th scope=col>tripdata2$ride_length</th></tr>\n",
       "\t<tr><th scope=col>&lt;chr&gt;</th><th scope=col>&lt;drtn&gt;</th></tr>\n",
       "</thead>\n",
       "<tbody>\n",
       "\t<tr><td>casual</td><td>55944.15 mins</td></tr>\n",
       "\t<tr><td>member</td><td> 1559.90 mins</td></tr>\n",
       "</tbody>\n",
       "</table>\n"
      ],
      "text/latex": [
       "A data.frame: 2 × 2\n",
       "\\begin{tabular}{ll}\n",
       " tripdata2\\$member\\_casual & tripdata2\\$ride\\_length\\\\\n",
       " <chr> & <drtn>\\\\\n",
       "\\hline\n",
       "\t casual & 55944.15 mins\\\\\n",
       "\t member &  1559.90 mins\\\\\n",
       "\\end{tabular}\n"
      ],
      "text/markdown": [
       "\n",
       "A data.frame: 2 × 2\n",
       "\n",
       "| tripdata2$member_casual &lt;chr&gt; | tripdata2$ride_length &lt;drtn&gt; |\n",
       "|---|---|\n",
       "| casual | 55944.15 mins |\n",
       "| member |  1559.90 mins |\n",
       "\n"
      ],
      "text/plain": [
       "  tripdata2$member_casual tripdata2$ride_length\n",
       "1 casual                  55944.15 mins        \n",
       "2 member                   1559.90 mins        "
      ]
     },
     "metadata": {},
     "output_type": "display_data"
    },
    {
     "data": {
      "text/html": [
       "<table class=\"dataframe\">\n",
       "<caption>A data.frame: 2 × 2</caption>\n",
       "<thead>\n",
       "\t<tr><th scope=col>tripdata2$member_casual</th><th scope=col>tripdata2$ride_length</th></tr>\n",
       "\t<tr><th scope=col>&lt;chr&gt;</th><th scope=col>&lt;drtn&gt;</th></tr>\n",
       "</thead>\n",
       "<tbody>\n",
       "\t<tr><td>casual</td><td>0 mins</td></tr>\n",
       "\t<tr><td>member</td><td>0 mins</td></tr>\n",
       "</tbody>\n",
       "</table>\n"
      ],
      "text/latex": [
       "A data.frame: 2 × 2\n",
       "\\begin{tabular}{ll}\n",
       " tripdata2\\$member\\_casual & tripdata2\\$ride\\_length\\\\\n",
       " <chr> & <drtn>\\\\\n",
       "\\hline\n",
       "\t casual & 0 mins\\\\\n",
       "\t member & 0 mins\\\\\n",
       "\\end{tabular}\n"
      ],
      "text/markdown": [
       "\n",
       "A data.frame: 2 × 2\n",
       "\n",
       "| tripdata2$member_casual &lt;chr&gt; | tripdata2$ride_length &lt;drtn&gt; |\n",
       "|---|---|\n",
       "| casual | 0 mins |\n",
       "| member | 0 mins |\n",
       "\n"
      ],
      "text/plain": [
       "  tripdata2$member_casual tripdata2$ride_length\n",
       "1 casual                  0 mins               \n",
       "2 member                  0 mins               "
      ]
     },
     "metadata": {},
     "output_type": "display_data"
    }
   ],
   "source": [
    "aggregate(tripdata2$ride_length ~ tripdata2$member_casual, FUN = mean)\n",
    "aggregate(tripdata2$ride_length ~ tripdata2$member_casual, FUN = median)\n",
    "aggregate(tripdata2$ride_length ~ tripdata2$member_casual, FUN = max)\n",
    "aggregate(tripdata2$ride_length ~ tripdata2$member_casual, FUN = min)"
   ]
  },
  {
   "cell_type": "markdown",
   "id": "a6c963a3",
   "metadata": {
    "papermill": {
     "duration": 0.010204,
     "end_time": "2022-05-15T05:28:37.163640",
     "exception": false,
     "start_time": "2022-05-15T05:28:37.153436",
     "status": "completed"
    },
    "tags": []
   },
   "source": [
    "#**Phase 5: Share**\n",
    "\n",
    "Before we make our recommendations for the marketing department, we will create some data visualizations to both share with our stakeholders as well as give us a better idea of what insights to share.\n",
    "\n",
    "**1.Average riding duration between casual and member riders.**"
   ]
  },
  {
   "cell_type": "code",
   "execution_count": 10,
   "id": "5f3404bb",
   "metadata": {
    "_kg_hide-output": true,
    "execution": {
     "iopub.execute_input": "2022-05-15T05:28:37.186855Z",
     "iopub.status.busy": "2022-05-15T05:28:37.185289Z",
     "iopub.status.idle": "2022-05-15T05:28:37.935350Z",
     "shell.execute_reply": "2022-05-15T05:28:37.933358Z"
    },
    "papermill": {
     "duration": 0.764397,
     "end_time": "2022-05-15T05:28:37.937890",
     "exception": false,
     "start_time": "2022-05-15T05:28:37.173493",
     "status": "completed"
    },
    "tags": []
   },
   "outputs": [
    {
     "name": "stderr",
     "output_type": "stream",
     "text": [
      "Don't know how to automatically pick scale for object of type difftime. Defaulting to continuous.\n",
      "\n"
     ]
    },
    {
     "data": {
      "image/png": "[encoded data removed]"
     },
     "metadata": {
      "image/png": {
       "height": 420,
       "width": 420
      }
     },
     "output_type": "display_data"
    }
   ],
   "source": [
    "tripdata2 %>% \n",
    "  group_by(member_casual) %>% \n",
    "  summarise(average_duration = mean(ride_length)) %>% \n",
    "  ggplot(aes(x = member_casual, y = average_duration,fill=member_casual)) +\n",
    "  geom_col(position = \"dodge\") +\n",
    "  labs(x = \"Rider Type\", y = \"Average Duration (min)\", title = \"Average Riding Duration by Rider Type\", caption = \"Data by Motivate International Inc\")"
   ]
  },
  {
   "cell_type": "markdown",
   "id": "0ff2e9e2",
   "metadata": {
    "papermill": {
     "duration": 0.010464,
     "end_time": "2022-05-15T05:28:37.959135",
     "exception": false,
     "start_time": "2022-05-15T05:28:37.948671",
     "status": "completed"
    },
    "tags": []
   },
   "source": [
    "**2.Average riding duration of each day of the week between casual and member riders.**"
   ]
  },
  {
   "cell_type": "code",
   "execution_count": 11,
   "id": "a746aec9",
   "metadata": {
    "_kg_hide-output": true,
    "execution": {
     "iopub.execute_input": "2022-05-15T05:28:37.984130Z",
     "iopub.status.busy": "2022-05-15T05:28:37.982390Z",
     "iopub.status.idle": "2022-05-15T05:28:44.914535Z",
     "shell.execute_reply": "2022-05-15T05:28:44.912762Z"
    },
    "papermill": {
     "duration": 6.947049,
     "end_time": "2022-05-15T05:28:44.916923",
     "exception": false,
     "start_time": "2022-05-15T05:28:37.969874",
     "status": "completed"
    },
    "tags": []
   },
   "outputs": [
    {
     "name": "stderr",
     "output_type": "stream",
     "text": [
      "Don't know how to automatically pick scale for object of type difftime. Defaulting to continuous.\n",
      "\n"
     ]
    },
    {
     "data": {
      "image/png": "[encoded data removed]"
     },
     "metadata": {
      "image/png": {
       "height": 420,
       "width": 420
      }
     },
     "output_type": "display_data"
    }
   ],
   "source": [
    "tripdata2 %>% \n",
    "  mutate(weekday = wday(started_at, label = TRUE))%>%\n",
    "  group_by(member_casual,weekday) %>% \n",
    "  summarise(average_duration = mean(ride_length), .groups = 'drop') %>% \n",
    "  arrange(member_casual,weekday) %>% \n",
    "  ggplot(aes(x = weekday, y = average_duration, fill= member_casual)) +\n",
    "  geom_col(position = \"dodge\") +\n",
    "  labs(x = \"Day of Week\", y = \"Average Duration (min)\", \n",
    "       fill = \"Member/Casual\",\n",
    "       title = \"Average Riding Duration by Day: Members vs. Casual Riders\", caption = \"Data by Motivate International Inc\")\n"
   ]
  },
  {
   "cell_type": "markdown",
   "id": "72cef244",
   "metadata": {
    "papermill": {
     "duration": 0.011055,
     "end_time": "2022-05-15T05:28:44.939134",
     "exception": false,
     "start_time": "2022-05-15T05:28:44.928079",
     "status": "completed"
    },
    "tags": []
   },
   "source": [
    "**3.Number of rides taken by each customer type during the week.**"
   ]
  },
  {
   "cell_type": "code",
   "execution_count": 12,
   "id": "ecb0af95",
   "metadata": {
    "_kg_hide-output": true,
    "execution": {
     "iopub.execute_input": "2022-05-15T05:28:44.965110Z",
     "iopub.status.busy": "2022-05-15T05:28:44.963392Z",
     "iopub.status.idle": "2022-05-15T05:28:51.500659Z",
     "shell.execute_reply": "2022-05-15T05:28:51.498689Z"
    },
    "papermill": {
     "duration": 6.553032,
     "end_time": "2022-05-15T05:28:51.503383",
     "exception": false,
     "start_time": "2022-05-15T05:28:44.950351",
     "status": "completed"
    },
    "tags": []
   },
   "outputs": [
    {
     "name": "stderr",
     "output_type": "stream",
     "text": [
      "\u001b[1m\u001b[22m`summarise()` has grouped output by 'member_casual'. You can override using the\n",
      "`.groups` argument.\n"
     ]
    },
    {
     "data": {
      "image/png": "[encoded data removed]"
     },
     "metadata": {
      "image/png": {
       "height": 420,
       "width": 420
      }
     },
     "output_type": "display_data"
    }
   ],
   "source": [
    "tripdata2 %>%\n",
    "  mutate(weekday = wday(started_at, label = TRUE))%>%\n",
    "  group_by(member_casual, weekday)%>%\n",
    "  summarise(number_of_rides=n(),average_duration=mean(ride_length))%>%\n",
    "  arrange(member_casual, weekday)%>%\n",
    "  ggplot(aes(x=weekday,y=number_of_rides,fill=member_casual))+\n",
    "  geom_col(position=\"dodge\") + \n",
    "  labs(title = \"Number of rides by user type during the week\", caption = \"Data by Motivate International Inc\")"
   ]
  },
  {
   "cell_type": "markdown",
   "id": "1c6df825",
   "metadata": {
    "papermill": {
     "duration": 0.012781,
     "end_time": "2022-05-15T05:28:51.528234",
     "exception": false,
     "start_time": "2022-05-15T05:28:51.515453",
     "status": "completed"
    },
    "tags": []
   },
   "source": [
    "#**Key Findings**\n",
    "\n",
    "**Differences in behavior between Casual and Member users**\n",
    "\n",
    "-On average Casual users ride at least 25 minutes whilst Member users ride between 12-15 minutes at most.\n",
    "\n",
    "-The average riding duration for Casual users is longer on Saturday and Sunday (weekends) while member users ride more constantly through out the whole week.\n",
    "\n",
    "-Our casual customers take the most rides of the weekends whilst memmber users are taken more ride on mid of the week. \n",
    "\n",
    "-There was no difference between casual and member users in how many rides they took each month. Both casual  and member users take the most number of rides in the summer months and the least number of rides in the late winter and early spring.\n",
    "\n",
    "**Reccomendations**\n",
    "\n",
    "1.Advertise how a membership can save money for those customers who take longer rides.\n",
    "\n",
    "2.Target casual customers who rent a bike for leisure on their weekends by adding related to holiday, \n",
    "tourism or weekend to weekday promotions.\n",
    "\n",
    "3.Create a large summer campaign when more people are likely to rent a bike.\n",
    "\n",
    "**Further Analysis**\n",
    "\n",
    "For further analysis, i think it will be necessary to know the preferred type of bikes, locations or most popular routes by casual users. This will help the company by to get insights which might lead them to offer the best promotions in those specific routes to convert more casual users to member users.\n",
    "\n",
    "#**Thank You, i hope you like it.**"
   ]
  }
 ],
 "metadata": {
  "kernelspec": {
   "display_name": "R",
   "language": "R",
   "name": "ir"
  },
  "language_info": {
   "codemirror_mode": "r",
   "file_extension": ".r",
   "mimetype": "text/x-r-source",
   "name": "R",
   "pygments_lexer": "r",
   "version": "4.0.5"
  },
  "papermill": {
   "default_parameters": {},
   "duration": 101.893555,
   "end_time": "2022-05-15T05:28:51.762390",
   "environment_variables": {},
   "exception": null,
   "input_path": "__notebook__.ipynb",
   "output_path": "__notebook__.ipynb",
   "parameters": {},
   "start_time": "2022-05-15T05:27:09.868835",
   "version": "2.3.4"
  }
 },
 "nbformat": 4,
 "nbformat_minor": 5
}
